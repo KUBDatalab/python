{
  "cells": [
    {
      "cell_type": "markdown",
      "metadata": {},
      "source": [
        "# Quick start guide\n",
        "This tutorial covers some basic usage patterns and best practices to help you get started with Matplotlib.\n",
        "\n",
        "Matplotlib is a versatile library for creating static, animated, and interactive visualizations in Python.\n"
      ]
    },
    {
      "cell_type": "code",
      "execution_count": null,
      "metadata": {},
      "outputs": [],
      "source": [
        "import matplotlib.pyplot as plt\n",
        "import numpy as np"
      ]
    },
    {
      "cell_type": "markdown",
      "metadata": {},
      "source": [
        "## A simple example\n",
        "\n",
        "Matplotlib graphs your data on [Figure](https://matplotlib.org/stable/api/figure_api.html#matplotlib.figure.Figure)s, each containing one or more [Axes](https://matplotlib.org/stable/api/axes_api.html#matplotlib.axes.Axes), where data is plotted."
      ]
    },
    {
      "cell_type": "code",
      "execution_count": null,
      "metadata": {},
      "outputs": [],
      "source": [
        "fig, ax = plt.subplots()  # Create a figure containing a single Axes.\n",
        "ax.plot([1, 2, 3, 4], [1, 4, 2, 3])  # Plot some data on the Axes.\n",
        "plt.show()"
      ]
    },
    {
      "cell_type": "markdown",
      "metadata": {},
      "source": [
        "## Parts of a Figure\n",
        "\n",
        "Here are the components of a Matplotlib Figure:\n",
        "\n",
        "- The **Figure** keeps track of all the child [Axes](https://matplotlib.org/stable/api/axes_api.html).\n",
        "- An **Axes** is a region where data is plotted. Each `Axes` has an x-label, y-label, and title."
      ]
    },
    {
      "cell_type": "markdown",
      "metadata": {},
      "source": [
        "## Types of inputs to plotting functions\n",
        "\n",
        "Matplotlib plotting functions expect `numpy.array` or objects that can be converted to `numpy.asarray`.\n",
        "For example, to convert a `numpy.matrix`:\n"
      ]
    },
    {
      "cell_type": "code",
      "execution_count": null,
      "metadata": {},
      "outputs": [],
      "source": [
        "b = np.matrix([[1, 2], [3, 4]])\n",
        "b_asarray = np.asarray(b)\n",
        "b_asarray"
      ]
    },
    {
      "cell_type": "markdown",
      "metadata": {},
      "source": [
        "## Coding styles\n",
        "\n",
        "Matplotlib supports both the object-oriented (OO) style and the pyplot style.\n",
        "See the [Matplotlib documentation](https://matplotlib.org/stable/tutorials/introductory/usage.html) for more details."
      ]
    },
    {
      "cell_type": "code",
      "execution_count": null,
      "metadata": {},
      "outputs": [],
      "source": [
        "x = np.linspace(0, 2, 100)\n",
        "fig, ax = plt.subplots()\n",
        "ax.plot(x, x, label='linear')\n",
        "ax.plot(x, x**2, label='quadratic')\n",
        "ax.plot(x, x**3, label='cubic')\n",
        "ax.set_xlabel('x label')\n",
        "ax.set_ylabel('y label')\n",
        "ax.set_title('Simple Plot')\n",
        "ax.legend()\n",
        "plt.show()"
      ]
    }
  ],
  "metadata": {
    "kernelspec": {
      "display_name": "Python 3",
      "language": "python",
      "name": "python3"
    },
    "language_info": {
      "name": "python",
      "version": "3.x"
    }
  },
  "nbformat": 4,
  "nbformat_minor": 2
}