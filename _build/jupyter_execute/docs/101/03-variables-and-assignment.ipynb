{
 "cells": [
  {
   "cell_type": "markdown",
   "id": "cef17358",
   "metadata": {},
   "source": [
    "# Variables and assignment"
   ]
  },
  {
   "cell_type": "markdown",
   "id": "d3201480",
   "metadata": {},
   "source": [
    "```{admonition} Learning Objectives\n",
    "Questions \n",
    "* How can I store data in programs?\n",
    "\n",
    "Objectives\n",
    "* Write scripts that assign values to variables and perform calculations with those values.\n",
    "* Correctly trace value changes in scripts that use assignment.\n",
    "\n",
    "```\n",
    "---"
   ]
  },
  {
   "cell_type": "markdown",
   "id": "8964b6e8",
   "metadata": {},
   "source": [
    "## Use variables to store values\n",
    "Variables are one of the fundamental building blocks of Python. A variable is like a tiny container where you store values and data, such as filenames, words, numbers, collections of words and numbers, and more.\n",
    "\n",
    "The variable *name* will point to a value that you “assign” it. You might think about variable assignment like putting a value “into” the variable, as if the variable is a little box 🎁\n",
    "\n",
    "(In fact, a variable is not a container as such but more like an adress label that points to a container with a given value. This difference will become relevant once we start talking about *lists* and *mutable* data types.)\n",
    "\n",
    "You assign variables with an equals sign (`=`). In Python, a single equals sign = is the “assignment operator.” (A double equals sign `==` is the “real” equals sign.)\n",
    "\n",
    "*   Variables are names for values.\n",
    "*   In Python the `=` symbol assigns the value on the right to the name on the left.\n",
    "*   The variable is created when a value is assigned to it.\n",
    "*   Here, Python assigns an age to a variable `age`\n",
    "    and a name in quotation marks to a variable `first_name`:"
   ]
  },
  {
   "cell_type": "code",
   "execution_count": 1,
   "id": "9a89e06a",
   "metadata": {},
   "outputs": [],
   "source": [
    "age = 42\n",
    "first_name = \"Ahmed\""
   ]
  },
  {
   "cell_type": "markdown",
   "id": "5d9d57ce",
   "metadata": {},
   "source": [
    "## Variable names\n",
    "Variable names can be as long or as short as you want, but there are certain rules you must follow.\n",
    "\n",
    "Variables:\n",
    "\n",
    "*   Cannot start with a digit.\n",
    "*   Cannot contain spaces, quotation marks, or other punctuation.\n",
    "*   *May* contain an underscore (typically used to separate words in long variable names).\n",
    "*   Having an underscore at the beginning of a variable name like `_alistairs_real_age` has a special meaning.\n",
    "    So we won't do that until we understand the convention.\n",
    "*   The standard naming convention for variable names in Python is the so-called \"snake case\", \n",
    "    where each word is separated by an underscore.\\\n",
    "    For example `my_first_variable`.\\\n",
    "    You can read more about naming conventions in Python [here](https://peps.python.org/pep-0008/#naming-conventions)."
   ]
  },
  {
   "cell_type": "markdown",
   "id": "856da774",
   "metadata": {
    "editable": true,
    "slideshow": {
     "slide_type": ""
    }
   },
   "source": [
    "### Use meaningful variable names\n",
    "Python doesn't care what you call variables as long as they obey the rules (alphanumeric characters and the underscore).\\\n",
    "As you start to code, you will almost certainly be tempted to use extremely short variables names like `f`. Your fingers will get tired. Your coffee will wear off. You will see other people using variables like `f`. You’ll promise yourself that you’ll definitely remember what `f` means. But you probably won’t.\n",
    "\n",
    "So, resist the temptation of bad variable names! Clear and precisely-named variables will:\n",
    "\n",
    "*   Make your code more readable (both to yourself and others).\n",
    "*   Reinforce your understanding of Python and what’s happening in the code.\n",
    "*   Clarify and strengthen your thinking."
   ]
  },
  {
   "cell_type": "code",
   "execution_count": 2,
   "id": "805672aa",
   "metadata": {
    "editable": true,
    "slideshow": {
     "slide_type": ""
    },
    "tags": [
     "remove-output"
    ]
   },
   "outputs": [
    {
     "name": "stdout",
     "output_type": "stream",
     "text": [
      "Ahmed is 42 years old\n"
     ]
    }
   ],
   "source": [
    "flabadab = 42\n",
    "ewr_422_yY = 'Ahmed'\n",
    "print(ewr_422_yY, 'is', flabadab, 'years old')"
   ]
  },
  {
   "cell_type": "markdown",
   "id": "6d7cb576",
   "metadata": {
    "editable": true,
    "slideshow": {
     "slide_type": ""
    }
   },
   "source": [
    "Use meaningful variable names to help other people understand what the program does.\n",
    "**The most important \"other person\" is your future self!**"
   ]
  },
  {
   "cell_type": "markdown",
   "id": "3ded7d36",
   "metadata": {
    "editable": true,
    "slideshow": {
     "slide_type": ""
    }
   },
   "source": [
    "### Python is case-sensitive\n",
    "\n",
    "Python thinks that upper- and lower-case letters are different, so `Name` and `name` are different variables.\n",
    "There are conventions for using upper-case letters at the start of variable names so we will use lower-case letters for now."
   ]
  },
  {
   "cell_type": "markdown",
   "id": "c4ccc551",
   "metadata": {},
   "source": [
    "### Off-Limits Names\n",
    "\n",
    "The only variable names that are off-limits are names that are reserved by, or built into, the Python programming language itself — such as `print`, `True`, and `list`.  Some of these you can overwrite into variable names (not ideal!), but Jupyter Lab (and many other environments and editors) will catch this by colour coding your variable.  If your would-be variable is colour-coded green, rethink your name choice.  This is not something to worry too much about. You can get the object back by resetting your kernel.\n",
    "\n",
    "---"
   ]
  },
  {
   "cell_type": "markdown",
   "id": "16850005",
   "metadata": {
    "editable": true,
    "slideshow": {
     "slide_type": ""
    }
   },
   "source": [
    "## Use `print()` to display values\n",
    "\n",
    "We can check to see what’s “inside” variables by running a cell with the variable’s name. This is one of the handiest features of a Jupyter notebook. Outside the Jupyter environment, you would need to use the `print()` function to display the variable."
   ]
  },
  {
   "cell_type": "code",
   "execution_count": 3,
   "id": "ef8801ac",
   "metadata": {},
   "outputs": [
    {
     "data": {
      "text/plain": [
       "'Ahmed'"
      ]
     },
     "execution_count": 3,
     "metadata": {},
     "output_type": "execute_result"
    }
   ],
   "source": [
    "first_name"
   ]
  },
  {
   "cell_type": "markdown",
   "id": "275e35fa",
   "metadata": {
    "editable": true,
    "slideshow": {
     "slide_type": ""
    }
   },
   "source": [
    "You can run the `print()` function inside the Jupyter environment, too. This is sometimes useful because Jupyter will only display the last variable in a cell, while `print()` can display multiple variables. \n",
    "\n",
    "Additionally, Jupyter will display text with \\n characters (which means “new line”), while `print()` will display the text appropriately formatted with new lines.\n",
    "\n",
    "Python has a built-in function called `print()` that prints things as text.\n",
    "Provide values to the function (i.e., the things to print) in parentheses.\n",
    "To add a string to the printout, wrap the string in single or double quotations.\n",
    "The values passed to the function are called ‘arguments’ and are separated by commas.\n",
    "When using the `print()` function, we can also separate with a `+` sign. However, when using `+`we have to add spaces in between manually."
   ]
  },
  {
   "cell_type": "code",
   "execution_count": 4,
   "id": "40f404ec",
   "metadata": {},
   "outputs": [
    {
     "name": "stdout",
     "output_type": "stream",
     "text": [
      "Ahmed is 42 years old\n"
     ]
    }
   ],
   "source": [
    "print(first_name, 'is', age, 'years old')"
   ]
  },
  {
   "cell_type": "markdown",
   "id": "c5a7e689",
   "metadata": {},
   "source": [
    "`print()` automatically puts a single space between items to separate them.\n",
    "And wraps around to a new line at the end."
   ]
  },
  {
   "cell_type": "markdown",
   "id": "6091611c",
   "metadata": {
    "editable": true,
    "slideshow": {
     "slide_type": ""
    }
   },
   "source": [
    "### Variables must be created before they are used"
   ]
  },
  {
   "cell_type": "markdown",
   "id": "aba074c0",
   "metadata": {
    "editable": true,
    "slideshow": {
     "slide_type": ""
    }
   },
   "source": [
    "If a variable doesn’t exist yet, or if the name has been misspelled, Python reports an error (unlike some languages, which “guess” a default value)."
   ]
  },
  {
   "cell_type": "code",
   "execution_count": 5,
   "id": "517f5c40",
   "metadata": {
    "editable": true,
    "slideshow": {
     "slide_type": ""
    }
   },
   "outputs": [
    {
     "ename": "NameError",
     "evalue": "name 'eye_color' is not defined",
     "output_type": "error",
     "traceback": [
      "\u001b[0;31m---------------------------------------------------------------------------\u001b[0m",
      "\u001b[0;31mNameError\u001b[0m                                 Traceback (most recent call last)",
      "Cell \u001b[0;32mIn[5], line 1\u001b[0m\n\u001b[0;32m----> 1\u001b[0m \u001b[38;5;28mprint\u001b[39m(eye_color)\n",
      "\u001b[0;31mNameError\u001b[0m: name 'eye_color' is not defined"
     ]
    }
   ],
   "source": [
    "print(eye_color)"
   ]
  },
  {
   "cell_type": "markdown",
   "id": "b0cdf693",
   "metadata": {
    "editable": true,
    "slideshow": {
     "slide_type": ""
    }
   },
   "source": [
    "The last line of an error message is usually the most informative. This message lets us know that there is no variable called eye_color in the script."
   ]
  },
  {
   "cell_type": "markdown",
   "id": "226b8590",
   "metadata": {
    "editable": true,
    "slideshow": {
     "slide_type": ""
    }
   },
   "source": [
    "```{admonition} Variables Persist Between Cells\n",
    ":class: warning\n",
    "Variables defined in one cell exist in all other cells once executed, so the relative location of cells in the notebook do not matter (i.e., cells lower down can still affect those above).\n",
    "\n",
    "* Notice the number in the square brackets [ ] to the left of the cell.\n",
    "* These numbers indicate the order, in which the cells have been executed.\n",
    "* Cells with lower numbers will affect cells with higher numbers as Python runs the cells chronologically.\n",
    "* As a best practice, we recommend you keep your notebook in chronological order so that it is easier for the human eye to read and make sense of, as well as to avoid any errors if you close and reopen your project, and then rerun what you have done.\n",
    "* Remember: Notebook cells are just a way to organize a program!\n",
    "As far as Python is concerned, all of the source code is one long set of instructions.\n",
    "```\n",
    "---"
   ]
  },
  {
   "cell_type": "markdown",
   "id": "c0597d74",
   "metadata": {
    "editable": true,
    "slideshow": {
     "slide_type": ""
    }
   },
   "source": [
    "## Variables can be used in calculations"
   ]
  },
  {
   "cell_type": "markdown",
   "id": "a243b033",
   "metadata": {
    "editable": true,
    "slideshow": {
     "slide_type": ""
    }
   },
   "source": [
    "We can use variables in calculations just as if they were values.\n",
    "Remember, we assigned 42 to age a few lines ago."
   ]
  },
  {
   "cell_type": "code",
   "execution_count": 6,
   "id": "0fa9eeb1",
   "metadata": {
    "editable": true,
    "slideshow": {
     "slide_type": ""
    }
   },
   "outputs": [
    {
     "name": "stdout",
     "output_type": "stream",
     "text": [
      "Age in three years: 45\n"
     ]
    }
   ],
   "source": [
    "age = age + 3\n",
    "print('Age in three years:', age)"
   ]
  },
  {
   "cell_type": "markdown",
   "id": "f67c3ebd",
   "metadata": {
    "editable": true,
    "slideshow": {
     "slide_type": ""
    }
   },
   "source": [
    "This code works in the following way. We are reassigning the value of the variable age by taking its previous value (42) and adding 3, thus getting our new value of 45.\n",
    "\n",
    "---"
   ]
  },
  {
   "cell_type": "markdown",
   "id": "677659c8",
   "metadata": {
    "editable": true,
    "slideshow": {
     "slide_type": ""
    }
   },
   "source": [
    "## Index, slicing and the lenght of variables"
   ]
  },
  {
   "cell_type": "markdown",
   "id": "76660a2b",
   "metadata": {
    "editable": true,
    "slideshow": {
     "slide_type": ""
    }
   },
   "source": [
    "You can use an index to get a single character from a string. The characters (individual letters, numbers, and so on) in a string are ordered. For example, the string ‘AB’ is not the same as ‘BA’. Because of this ordering, we can treat the string as a list of characters.\n",
    "\n",
    "Each position in the string (first, second, etc.) is given a number. \n",
    "This number is called an index or sometimes a subscript.\n",
    "Indices are numbered from 0 rather than 1.\n",
    "Use the position’s index in square brackets to get the character at that position."
   ]
  },
  {
   "cell_type": "code",
   "execution_count": 7,
   "id": "1e595958",
   "metadata": {
    "editable": true,
    "slideshow": {
     "slide_type": ""
    }
   },
   "outputs": [
    {
     "name": "stdout",
     "output_type": "stream",
     "text": [
      "g\n"
     ]
    }
   ],
   "source": [
    "color = 'green'\n",
    "print(color[0])"
   ]
  },
  {
   "cell_type": "markdown",
   "id": "6d80fb7a",
   "metadata": {
    "editable": true,
    "slideshow": {
     "slide_type": ""
    }
   },
   "source": [
    "### Use a slice to get a substring"
   ]
  },
  {
   "cell_type": "markdown",
   "id": "7de6cfa7",
   "metadata": {
    "editable": true,
    "slideshow": {
     "slide_type": ""
    }
   },
   "source": [
    "A part of a string is called a substring. A substring can be as short as a single character. A slice is a part of a string (or, more generally, any list-like thing). We take a slice by using `[start:stop]`, where start is replaced with the index of the first element we want and stop is replaced with the index of the element just after the last element we want. Mathematically, you might say that a slice selects `[start:stop]`. The difference between stop and start is the slice’s length. Taking a slice does not change the contents of the original string. Instead, the slice is a copy of part of the original string."
   ]
  },
  {
   "cell_type": "code",
   "execution_count": 8,
   "id": "2fb78a73",
   "metadata": {
    "editable": true,
    "slideshow": {
     "slide_type": ""
    }
   },
   "outputs": [
    {
     "name": "stdout",
     "output_type": "stream",
     "text": [
      "blu\n"
     ]
    }
   ],
   "source": [
    "color = 'blue'\n",
    "print(color[0:3])"
   ]
  },
  {
   "cell_type": "markdown",
   "id": "8dddbf93",
   "metadata": {
    "editable": true,
    "slideshow": {
     "slide_type": ""
    }
   },
   "source": [
    "### Use the built-in function `len()` to find the length of a string"
   ]
  },
  {
   "cell_type": "markdown",
   "id": "a36ad0ec",
   "metadata": {},
   "source": [
    "The built-in function `len()` is used to find the length of a string (and later, of other data types, too)."
   ]
  },
  {
   "cell_type": "code",
   "execution_count": 9,
   "id": "e6ddc606",
   "metadata": {
    "editable": true,
    "slideshow": {
     "slide_type": ""
    }
   },
   "outputs": [
    {
     "name": "stdout",
     "output_type": "stream",
     "text": [
      "3\n"
     ]
    }
   ],
   "source": [
    "color = 'red'\n",
    "print(len(color))"
   ]
  },
  {
   "cell_type": "markdown",
   "id": "5090b633",
   "metadata": {
    "editable": true,
    "slideshow": {
     "slide_type": ""
    }
   },
   "source": [
    "Note that the result is 3 and not 5. This is because it is the length of the value of the variable (i.e. `'red'`) that is being counted and not the name of the variable (i.e. `color`)\n",
    "\n",
    "Also note that nested functions are evaluated from the inside out, just like in mathematics. Thus, Python first reads the `len()` function, then the `print()` function.\n",
    "\n",
    "---"
   ]
  },
  {
   "cell_type": "markdown",
   "id": "3f40aeb6",
   "metadata": {
    "editable": true,
    "slideshow": {
     "slide_type": ""
    }
   },
   "source": [
    "## Exercises \n",
    "In the following you will find a series of exercises - try to solve them on your own before looking at the solution."
   ]
  },
  {
   "cell_type": "markdown",
   "id": "193a8e8a",
   "metadata": {},
   "source": [
    "### Exercise 1: Choosing a Name"
   ]
  },
  {
   "cell_type": "markdown",
   "id": "9b3aa7dd",
   "metadata": {
    "editable": true,
    "slideshow": {
     "slide_type": ""
    }
   },
   "source": [
    "Which is a better variable name, m, min, or minutes? Why? \n",
    "Hint: think about which code you would rather inherit from someone who is leaving the library:\n",
    "\n",
    "ts = m * 60 + s\n",
    "\n",
    "tot_sec = min * 60 + sec\n",
    "\n",
    "total_seconds = minutes * 60 + seconds\n",
    "\n",
    "```{admonition} Solution\n",
    ":class: dropdown\n",
    "minutes is better because `min` might mean something like “minimum” (and actually does in Python, but we haven’t seen that yet).\n",
    "```\n",
    "---"
   ]
  },
  {
   "cell_type": "markdown",
   "id": "0fd1bc01",
   "metadata": {},
   "source": [
    "### Exercise 2: Swapping values"
   ]
  },
  {
   "cell_type": "markdown",
   "id": "8888394e",
   "metadata": {},
   "source": [
    "Draw a table showing the values of the variables in this program after each statement is executed. In simple terms, what do the last three lines of this program do?"
   ]
  },
  {
   "cell_type": "code",
   "execution_count": 10,
   "id": "a68ff265",
   "metadata": {},
   "outputs": [],
   "source": [
    "x = 1.0\n",
    "y = 3.0\n",
    "swap = x\n",
    "x = y\n",
    "y = swap"
   ]
  },
  {
   "cell_type": "markdown",
   "id": "2b3b30e4",
   "metadata": {},
   "source": [
    "````{admonition} Solution\n",
    ":class: dropdown\n",
    "```code\n",
    "swap = x  #  x->1.0 y->3.0 swap->1.0\n",
    "x = y     #  x->3.0 y->3.0 swap->1.0\n",
    "y = swap  #  x->3.0 y->1.0 swap->1.0\n",
    "```\n",
    "These three lines exchange the values in x and y using the swap variable for temporary storage. This is a fairly common programming idiom.\n",
    "````\n",
    "---"
   ]
  },
  {
   "cell_type": "markdown",
   "id": "8841dd6f",
   "metadata": {},
   "source": [
    "### Exercise 3: Predicting values"
   ]
  },
  {
   "cell_type": "markdown",
   "id": "3dde86d9",
   "metadata": {},
   "source": [
    "What is the final value of `position` in the program below? (Try to predict the value without running the program, then check your prediction.)"
   ]
  },
  {
   "cell_type": "code",
   "execution_count": 11,
   "id": "dfc5145c",
   "metadata": {
    "editable": true,
    "slideshow": {
     "slide_type": ""
    }
   },
   "outputs": [],
   "source": [
    "initial = \"left\"\n",
    "position = initial\n",
    "initial = \"right\""
   ]
  },
  {
   "cell_type": "markdown",
   "id": "ae74185c",
   "metadata": {},
   "source": [
    "````{admonition} Solution\n",
    ":class: dropdown\n",
    "```code\n",
    "initial = \"left\"  # Initial is assigned the string \"left\"\n",
    "position = initial  # Position is assigned the variable initial, currently \"left\"\n",
    "initial = \"right\"  # Initial is assigned the string \"right\"\n",
    "print(position)\n",
    "```\n",
    "The last assignment to position is “left”\n",
    "\n",
    "````\n",
    "---"
   ]
  },
  {
   "cell_type": "markdown",
   "id": "ea580c4f",
   "metadata": {},
   "source": [
    "### Exercise 4: Can you slice integers?"
   ]
  },
  {
   "cell_type": "markdown",
   "id": "58a68650",
   "metadata": {},
   "source": [
    "If you assign a = 123, what happens if you try to get the second digit of a?"
   ]
  },
  {
   "cell_type": "markdown",
   "id": "742892eb",
   "metadata": {
    "editable": true,
    "slideshow": {
     "slide_type": ""
    }
   },
   "source": [
    "````{admonition} Solution\n",
    ":class: dropdown\n",
    "```code\n",
    "a = 123\n",
    "print(a[1])\n",
    "```\n",
    "TypeError: 'int' object is not subscriptable\n",
    "\n",
    "````\n",
    "---"
   ]
  },
  {
   "cell_type": "markdown",
   "id": "52debc8e",
   "metadata": {
    "editable": true,
    "slideshow": {
     "slide_type": ""
    }
   },
   "source": [
    "### Exercise 5: Slicing"
   ]
  },
  {
   "cell_type": "markdown",
   "id": "6777171b",
   "metadata": {
    "editable": true,
    "slideshow": {
     "slide_type": ""
    }
   },
   "source": [
    "What does the following program print?"
   ]
  },
  {
   "cell_type": "code",
   "execution_count": 12,
   "id": "d7bd3d42",
   "metadata": {
    "editable": true,
    "slideshow": {
     "slide_type": ""
    },
    "tags": [
     "remove-output"
    ]
   },
   "outputs": [
    {
     "name": "stdout",
     "output_type": "stream",
     "text": [
      "library_name[1:3] is: oc\n"
     ]
    }
   ],
   "source": [
    "library_name = 'social sciences'\n",
    "print('library_name[1:3] is:', library_name[1:3])"
   ]
  },
  {
   "cell_type": "markdown",
   "id": "3029b1d8",
   "metadata": {
    "editable": true,
    "slideshow": {
     "slide_type": ""
    }
   },
   "source": [
    "If `thing` is a variable name, low is a low number, and high is a high number:\n",
    "\n",
    "1. What does thing`[low:high]` do?\n",
    "2. What does thing`[low:]` (without a value after the colon) do?\n",
    "3. What does thing`[:high]` (without a value before the colon) do?\n",
    "4. What does thing`[:]` (just a colon) do?\n",
    "5. What does thing`[number:negative-number]` do?"
   ]
  },
  {
   "cell_type": "markdown",
   "id": "9ac778bb",
   "metadata": {},
   "source": [
    "````{admonition} Solution\n",
    ":class: dropdown\n",
    "```code\n",
    "library_name[1:3] is: oc\n",
    "```\n",
    "1. It will slice the string, starting at the low index and ending an element before the high index\n",
    "2. It will slice the string, starting at the low index and stopping at the end of the string\n",
    "3. It will slice the string, starting at the beginning on the string, and ending an element before the high index\n",
    "4. It will print the entire string\n",
    "5. It will slice the string, starting the number index, and ending a distance of the absolute value of negative-number elements from the end of the string\n",
    "````\n",
    "---"
   ]
  },
  {
   "cell_type": "markdown",
   "id": "6d0be997",
   "metadata": {},
   "source": [
    "## Key points\n",
    "* Use variables to store values.\n",
    "* Use meaningful variable names.\n",
    "* Python is case-sensitive.\n",
    "* Use print() to display values.\n",
    "* Variables must be created before they are used.\n",
    "* Variables persist between cells.\n",
    "* Variables can be used in calculations.\n",
    "* Use an index to get a single character from a string.\n",
    "* Use a slice to get a substring.\n",
    "* Use the built-in function len to find the length of a string."
   ]
  },
  {
   "cell_type": "code",
   "execution_count": null,
   "id": "45780e6f",
   "metadata": {
    "editable": true,
    "slideshow": {
     "slide_type": ""
    }
   },
   "outputs": [],
   "source": []
  }
 ],
 "metadata": {
  "jupytext": {
   "formats": "ipynb,md:myst",
   "text_representation": {
    "extension": ".md",
    "format_name": "myst",
    "format_version": 0.13,
    "jupytext_version": "1.16.2"
   }
  },
  "kernelspec": {
   "display_name": "Python 3 (ipykernel)",
   "language": "python",
   "name": "python3"
  },
  "language_info": {
   "codemirror_mode": {
    "name": "ipython",
    "version": 3
   },
   "file_extension": ".py",
   "mimetype": "text/x-python",
   "name": "python",
   "nbconvert_exporter": "python",
   "pygments_lexer": "ipython3",
   "version": "3.11.8"
  },
  "source_map": [
   13,
   17,
   30,
   47,
   50,
   67,
   79,
   91,
   96,
   103,
   111,
   117,
   121,
   133,
   135,
   140,
   144,
   148,
   157,
   161,
   176,
   180,
   185,
   195,
   201,
   205,
   214,
   224,
   228,
   233,
   243,
   247,
   251,
   261,
   269,
   274,
   278,
   295,
   299,
   303,
   309,
   322,
   326,
   330,
   339,
   354,
   358,
   362,
   375,
   379,
   383,
   394,
   404,
   419,
   433
  ]
 },
 "nbformat": 4,
 "nbformat_minor": 5
}