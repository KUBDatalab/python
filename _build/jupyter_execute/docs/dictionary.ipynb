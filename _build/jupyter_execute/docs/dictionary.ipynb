{
 "cells": [
  {
   "cell_type": "markdown",
   "id": "c3111538-7726-4afa-8c91-aa5b872f7106",
   "metadata": {
    "editable": true,
    "slideshow": {
     "slide_type": ""
    },
    "tags": []
   },
   "source": [
    "# Learn all the new words"
   ]
  },
  {
   "cell_type": "markdown",
   "id": "c381c572-1667-4d82-8f44-990943cbe4e5",
   "metadata": {
    "editable": true,
    "slideshow": {
     "slide_type": ""
    },
    "tags": []
   },
   "source": [
    "There are a lot of new things to learn when one begins to learn a new language such as python. Therefore we have made a list you can use to look up definitions of words which may be strange to you at the moment."
   ]
  },
  {
   "cell_type": "markdown",
   "id": "4e8cc707-d5ac-42b7-a54f-d2ddfce5cb70",
   "metadata": {},
   "source": [
    "## For absolute beginners"
   ]
  },
  {
   "cell_type": "markdown",
   "id": "06220ee6-ab32-4f79-98d1-0191ca4dce41",
   "metadata": {
    "editable": true,
    "slideshow": {
     "slide_type": ""
    },
    "tags": []
   },
   "source": [
    "### Argument\n",
    "Definition: A value you pass to a function when you call it.\n",
    "\n",
    "Example: In `print(\"Hello\")`, \"Hello\" is the argument."
   ]
  },
  {
   "cell_type": "markdown",
   "id": "35dca6ad-308a-4dd7-8a23-36b4528fa9db",
   "metadata": {
    "editable": true,
    "slideshow": {
     "slide_type": ""
    },
    "tags": []
   },
   "source": [
    "### Arithmetic\n",
    "\n",
    "Definition: Basic math operations you can perform on numbers.\n",
    "\n",
    "Examples:\n",
    "* Addition `+`: 5 + 3 equals 8\n",
    "* Subtraction `-`: 5 - 3 equals 2"
   ]
  },
  {
   "cell_type": "markdown",
   "id": "200a35cd-6100-42ad-b775-488a3b374dd3",
   "metadata": {
    "editable": true,
    "slideshow": {
     "slide_type": ""
    },
    "tags": []
   },
   "source": [
    "### Assignment\n",
    "Definition: Setting a value to a variable using the `=` operator.\n",
    "\n",
    "Example: `x = 5` assigns the value 5 to the variable x."
   ]
  },
  {
   "cell_type": "markdown",
   "id": "7536c7cb-d3b6-40c8-9b36-be5cd3027ef8",
   "metadata": {
    "editable": true,
    "slideshow": {
     "slide_type": ""
    },
    "tags": []
   },
   "source": [
    "### Comment\n",
    "Definition: Text in your code that Python ignores, used to explain the code.\n",
    "Example: \n",
    "\n",
    "```\n",
    "# This is a comment\n",
    "```"
   ]
  },
  {
   "cell_type": "markdown",
   "id": "610ff638-e039-4ac1-9936-d9e1dce942e2",
   "metadata": {
    "editable": true,
    "slideshow": {
     "slide_type": ""
    },
    "tags": []
   },
   "source": [
    "### Data Type\n",
    "\n",
    "Definition: The kind of value a variable holds (e.g., integer, string, list).\n",
    "\n",
    "Example: `x = 5` makes `x` an integer, `name = \"Alice\"` makes name a string."
   ]
  },
  {
   "cell_type": "markdown",
   "id": "90907913-1b13-42c4-b3d5-eb85b42be035",
   "metadata": {
    "editable": true,
    "slideshow": {
     "slide_type": ""
    },
    "tags": []
   },
   "source": [
    "### Function\n",
    "\n",
    "Definition: A block of code that performs a specific task and can be reused.\n",
    "\n",
    "Example: `def greet(): print(\"Hello!\") defines a function named greet."
   ]
  },
  {
   "cell_type": "markdown",
   "id": "7c0884ac-d975-4620-a752-0e1b99895fd0",
   "metadata": {
    "editable": true,
    "slideshow": {
     "slide_type": ""
    },
    "tags": []
   },
   "source": [
    "### IDE (Integrated Development Environment)\n",
    "\n",
    "Definition: A software application that provides tools for coding, like Jupyter Lab.\n",
    "\n",
    "Example: Jupyter Lab, where you write and run Python code."
   ]
  },
  {
   "cell_type": "markdown",
   "id": "890f10aa-1251-4614-b8e4-61199c8a33b6",
   "metadata": {
    "editable": true,
    "slideshow": {
     "slide_type": ""
    },
    "tags": []
   },
   "source": [
    "### Indentation\n",
    "\n",
    "Definition: Spaces at the beginning of a line that define the structure of your code, especially in loops and functions.\n",
    "\n",
    "Example: \n",
    "```\n",
    "for something in something:\n",
    "    print(something)\n",
    "```"
   ]
  },
  {
   "cell_type": "markdown",
   "id": "424d85fa-1f51-4a9d-a0f7-4e1a81006343",
   "metadata": {
    "editable": true,
    "slideshow": {
     "slide_type": ""
    },
    "tags": []
   },
   "source": [
    "### Library\n",
    "\n",
    "Definition: A collection of pre-written code you can use to add functionality to your programs.\n",
    "\n",
    "Example: import pandas BETTER EXAMPLE-"
   ]
  },
  {
   "cell_type": "markdown",
   "id": "aa0c3ee8-44d2-4a2e-8cd5-680edee0b7e5",
   "metadata": {
    "editable": true,
    "slideshow": {
     "slide_type": ""
    },
    "tags": []
   },
   "source": [
    "### Loop\n",
    "\n",
    "Definition: Code that repeats until a condition is met.\n",
    "\n",
    "Example ??\n"
   ]
  },
  {
   "cell_type": "markdown",
   "id": "c91cbef5-fa9f-44d1-a17f-6de847b9184f",
   "metadata": {
    "editable": true,
    "slideshow": {
     "slide_type": ""
    },
    "tags": []
   },
   "source": [
    "### Module\n",
    "\n",
    "Definition: A file containing Python code that can be included in other programs.\n",
    "\n",
    "Example: `import os` imports the os module which is used to interact with the operating system."
   ]
  },
  {
   "cell_type": "markdown",
   "id": "2178c5b5-4e15-4b8f-8b65-6e03eb4b652a",
   "metadata": {
    "editable": true,
    "slideshow": {
     "slide_type": ""
    },
    "tags": []
   },
   "source": [
    "### Operator\n",
    "\n",
    "Definition: A symbol that performs an operation on one or more operands.\n",
    "\n",
    "Example: `+` for addition, `==` for comparison."
   ]
  },
  {
   "cell_type": "markdown",
   "id": "85c8f9c8-19e4-484b-8cd9-ac5731944e8a",
   "metadata": {
    "editable": true,
    "slideshow": {
     "slide_type": ""
    },
    "tags": []
   },
   "source": [
    "### String\n",
    "\n",
    "Definition: A sequence of characters surrounded by quotes.\n",
    "\n",
    "Example: \"Hello, world!\""
   ]
  },
  {
   "cell_type": "markdown",
   "id": "bc6301c2-365d-4834-a48c-a224310bcf27",
   "metadata": {
    "editable": true,
    "slideshow": {
     "slide_type": ""
    },
    "tags": []
   },
   "source": [
    "### Syntax\n",
    "\n",
    "Definition: The set of rules that defines the combinations of symbols considered correctly structured by python logic.\n",
    "\n",
    "Example: `print(\"Hello\")` is correct syntax; `print(Hello)` is not."
   ]
  },
  {
   "cell_type": "markdown",
   "id": "8ffcbcbe-5726-4c7b-8721-e115fbde16a8",
   "metadata": {
    "editable": true,
    "slideshow": {
     "slide_type": ""
    },
    "tags": []
   },
   "source": [
    "### Variable\n",
    "\n",
    "Definition: A name that stores a value. You can think about it as a small container in which you store a value. \n",
    "\n",
    "Example: `age = 25` assigns the value 25 to the variable `age`."
   ]
  },
  {
   "cell_type": "markdown",
   "id": "589c7e13-c9fa-447a-a110-c55b9a9ad713",
   "metadata": {
    "editable": true,
    "slideshow": {
     "slide_type": ""
    },
    "tags": []
   },
   "source": [
    "### Function\n",
    "\n",
    "Definition: A block of code that performs a specific task and can be reused.\n",
    "\n",
    "Example: `def greet(): print(\"Hello!\")` defines a function named greet."
   ]
  },
  {
   "cell_type": "markdown",
   "id": "a068c83e-5bfb-4924-8063-7db13528a190",
   "metadata": {},
   "source": [
    "### IDE (Integrated Development Environment)\n",
    "\n",
    "Definition: A software application that provides tools for coding, like Jupyter Lab.\n",
    "\n",
    "Example: Jupyter Lab, where you write and run Python code."
   ]
  },
  {
   "cell_type": "markdown",
   "id": "df937a22-d401-4d75-ad7c-0b2ceb2e4494",
   "metadata": {},
   "source": [
    "### Indentation\n",
    "\n",
    "Definition: Spaces at the beginning of a line that define the structure of your code, especially in loops and functions."
   ]
  },
  {
   "cell_type": "markdown",
   "id": "d7e16cd6-afe8-4573-9e66-ff1947173fbb",
   "metadata": {},
   "source": [
    "### Library\n",
    "\n",
    "Definition: A collection of pre-written code you can use to add functionality to your programs.\n",
    "\n",
    "Example: import math lets you use math functions like math.sqrt()"
   ]
  },
  {
   "cell_type": "markdown",
   "id": "08eb80f3-ec98-4a17-81d6-1e0be43c285d",
   "metadata": {},
   "source": [
    "### Loop\n",
    "\n",
    "Definition: Code that repeats until a condition is met.\n",
    "Example:\n",
    "\n",
    "```\n",
    "for i in range(5):\n",
    "    print(i)\n",
    "```"
   ]
  },
  {
   "cell_type": "markdown",
   "id": "dacac738-62da-475d-abdb-8b134924b963",
   "metadata": {},
   "source": [
    "### Module\n",
    "\n",
    "Definition: A file containing Python code that can be included in other programs.\n",
    "\n",
    "Example: import os imports the os module to interact with the operating system.\n"
   ]
  },
  {
   "cell_type": "markdown",
   "id": "c451496f-abb4-4d6a-a657-7f6516e21629",
   "metadata": {},
   "source": [
    "### Operator\n",
    "\n",
    "Definition: A symbol that performs an operation on one or more operands.\n",
    "\n",
    "Example: + for addition, == for comparison."
   ]
  },
  {
   "cell_type": "markdown",
   "id": "2545d704-1227-45a3-bcaa-3f5dd4d2a2f1",
   "metadata": {},
   "source": [
    "### String\n",
    "\n",
    "Definition: A sequence of characters surrounded by quotes.\n",
    "\n",
    "Example: \"Hello, world!\""
   ]
  },
  {
   "cell_type": "markdown",
   "id": "38d86c36-9ea2-42c1-b3fe-a60c18cbe6f5",
   "metadata": {},
   "source": [
    "### Syntax\n",
    "\n",
    "Definition: The set of rules that defines the combinations of symbols considered correctly structured.*\n",
    "\n",
    "Example: print(\"Hello\") is correct syntax; print(Hello) is not."
   ]
  },
  {
   "cell_type": "markdown",
   "id": "d5a52778-3ca2-4e33-91e7-356b2b32f5c6",
   "metadata": {},
   "source": [
    "### Variable\n",
    "\n",
    "Definition: A name that stores a value.\n",
    "\n",
    "Example: age = 25 assigns the value 25 to the variable age."
   ]
  },
  {
   "cell_type": "markdown",
   "id": "a5fca721-9bf7-49a7-bf29-6b57c69c41e5",
   "metadata": {},
   "source": [
    "___"
   ]
  },
  {
   "cell_type": "markdown",
   "id": "cc493a2f-eeac-4a1a-84db-d2db6b929147",
   "metadata": {},
   "source": [
    "## Pandas"
   ]
  },
  {
   "cell_type": "markdown",
   "id": "89a6096e-2ecd-413c-96b1-277d3e07a1e3",
   "metadata": {
    "editable": true,
    "slideshow": {
     "slide_type": ""
    },
    "tags": []
   },
   "source": [
    "### Attributes"
   ]
  },
  {
   "cell_type": "markdown",
   "id": "a9dd6a1b-80cd-4f55-a588-a6ce68422173",
   "metadata": {
    "editable": true,
    "slideshow": {
     "slide_type": ""
    },
    "tags": []
   },
   "source": [
    "### DataFrame\n",
    "\n",
    "Definition: A 2-dimensional labeled data structure with columns of potentially different types.\n",
    "\n",
    "Example:\n",
    "```\n",
    "df = pd.DataFrame({'A': [1, 2], 'B': [3, 4]})\n",
    "```"
   ]
  },
  {
   "cell_type": "markdown",
   "id": "f16aee1c-92fd-4f93-9144-08cd3f30b34a",
   "metadata": {},
   "source": [
    "### Series\n",
    "\n",
    "Definition: A 1-dimensional labeled array capable of holding any data type.\n",
    "Example:\n",
    "```\n",
    "s = pd.Series([1, 2, 3, 4])\n",
    "```"
   ]
  },
  {
   "cell_type": "markdown",
   "id": "514fea38-e257-4d97-ab44-e90c31d3d826",
   "metadata": {},
   "source": [
    "### Index\n",
    "\n",
    "Definition: The labels (row names) of a DataFrame or Series.\n",
    "\n",
    "Example:\n",
    "```\n",
    "df.index\n",
    "```"
   ]
  },
  {
   "cell_type": "code",
   "execution_count": null,
   "id": "32588530-4743-4ffb-bbcf-af36c82b7878",
   "metadata": {
    "editable": true,
    "slideshow": {
     "slide_type": ""
    },
    "tags": []
   },
   "outputs": [],
   "source": []
  }
 ],
 "metadata": {
  "kernelspec": {
   "display_name": "Python 3 (ipykernel)",
   "language": "python",
   "name": "python3"
  },
  "language_info": {
   "codemirror_mode": {
    "name": "ipython",
    "version": 3
   },
   "file_extension": ".py",
   "mimetype": "text/x-python",
   "name": "python",
   "nbconvert_exporter": "python",
   "pygments_lexer": "ipython3",
   "version": "3.11.8"
  }
 },
 "nbformat": 4,
 "nbformat_minor": 5
}